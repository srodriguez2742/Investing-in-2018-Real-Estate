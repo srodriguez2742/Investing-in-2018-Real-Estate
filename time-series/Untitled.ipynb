{
 "cells": [
  {
   "cell_type": "code",
   "execution_count": 5,
   "metadata": {
    "ExecuteTime": {
     "end_time": "2021-03-11T17:22:09.986323Z",
     "start_time": "2021-03-11T17:22:09.973323Z"
    }
   },
   "outputs": [],
   "source": [
    "import pandas as pd\n",
    "import numpy as np\n",
    "import itertools\n"
   ]
  },
  {
   "cell_type": "code",
   "execution_count": null,
   "metadata": {},
   "outputs": [],
   "source": [
    "# Define the p, d and q parameters to take any value between 0 and 2\n",
    "p = d = q = range(0,2)\n",
    "\n",
    "# Generate all different combinations of p, q and q triplets\n",
    "pdq = list(itertools.product(p,d,q))\n",
    "\n",
    "# Generate all different combinations of seasonal p, q and q triplets (use 12 for frequency)\n",
    "pdqs = [(x[0], x[1], x[2], 12) for x in list(itertools.product(p, d, q))]"
   ]
  },
  {
   "cell_type": "code",
   "execution_count": 40,
   "metadata": {
    "ExecuteTime": {
     "end_time": "2021-03-11T18:07:31.082622Z",
     "start_time": "2021-03-11T18:07:31.067654Z"
    }
   },
   "outputs": [],
   "source": [
    "glove = range(0,2)\n",
    "direction = range(0,9)\n",
    "diff = range(1,5)\n",
    "decision = range(0,2)\n",
    "accurate = range(0,2)"
   ]
  },
  {
   "cell_type": "code",
   "execution_count": 42,
   "metadata": {
    "ExecuteTime": {
     "end_time": "2021-03-11T18:14:35.484398Z",
     "start_time": "2021-03-11T18:14:35.474398Z"
    }
   },
   "outputs": [
    {
     "data": {
      "text/plain": [
       "[('A', 0, 0, 0),\n",
       " ('A', 0, 0, 1),\n",
       " ('A', 0, 1, 0),\n",
       " ('A', 0, 1, 1),\n",
       " ('A', 1, 0, 0),\n",
       " ('A', 1, 0, 1),\n",
       " ('A', 1, 1, 0),\n",
       " ('A', 1, 1, 1)]"
      ]
     },
     "execution_count": 42,
     "metadata": {},
     "output_type": "execute_result"
    }
   ],
   "source": [
    "arm = list(itertools.product('A',decision,accurate,glove))\n",
    "arm"
   ]
  },
  {
   "cell_type": "code",
   "execution_count": 43,
   "metadata": {
    "ExecuteTime": {
     "end_time": "2021-03-11T18:14:36.581398Z",
     "start_time": "2021-03-11T18:14:36.561398Z"
    }
   },
   "outputs": [
    {
     "data": {
      "text/plain": [
       "[('R', 0, 1, 0),\n",
       " ('R', 0, 1, 1),\n",
       " ('R', 0, 2, 0),\n",
       " ('R', 0, 2, 1),\n",
       " ('R', 0, 3, 0),\n",
       " ('R', 0, 3, 1),\n",
       " ('R', 0, 4, 0),\n",
       " ('R', 0, 4, 1),\n",
       " ('R', 1, 1, 0),\n",
       " ('R', 1, 1, 1),\n",
       " ('R', 1, 2, 0),\n",
       " ('R', 1, 2, 1),\n",
       " ('R', 1, 3, 0),\n",
       " ('R', 1, 3, 1),\n",
       " ('R', 1, 4, 0),\n",
       " ('R', 1, 4, 1),\n",
       " ('R', 2, 1, 0),\n",
       " ('R', 2, 1, 1),\n",
       " ('R', 2, 2, 0),\n",
       " ('R', 2, 2, 1),\n",
       " ('R', 2, 3, 0),\n",
       " ('R', 2, 3, 1),\n",
       " ('R', 2, 4, 0),\n",
       " ('R', 2, 4, 1),\n",
       " ('R', 3, 1, 0),\n",
       " ('R', 3, 1, 1),\n",
       " ('R', 3, 2, 0),\n",
       " ('R', 3, 2, 1),\n",
       " ('R', 3, 3, 0),\n",
       " ('R', 3, 3, 1),\n",
       " ('R', 3, 4, 0),\n",
       " ('R', 3, 4, 1),\n",
       " ('R', 4, 1, 0),\n",
       " ('R', 4, 1, 1),\n",
       " ('R', 4, 2, 0),\n",
       " ('R', 4, 2, 1),\n",
       " ('R', 4, 3, 0),\n",
       " ('R', 4, 3, 1),\n",
       " ('R', 4, 4, 0),\n",
       " ('R', 4, 4, 1),\n",
       " ('R', 5, 1, 0),\n",
       " ('R', 5, 1, 1),\n",
       " ('R', 5, 2, 0),\n",
       " ('R', 5, 2, 1),\n",
       " ('R', 5, 3, 0),\n",
       " ('R', 5, 3, 1),\n",
       " ('R', 5, 4, 0),\n",
       " ('R', 5, 4, 1),\n",
       " ('R', 6, 1, 0),\n",
       " ('R', 6, 1, 1),\n",
       " ('R', 6, 2, 0),\n",
       " ('R', 6, 2, 1),\n",
       " ('R', 6, 3, 0),\n",
       " ('R', 6, 3, 1),\n",
       " ('R', 6, 4, 0),\n",
       " ('R', 6, 4, 1),\n",
       " ('R', 7, 1, 0),\n",
       " ('R', 7, 1, 1),\n",
       " ('R', 7, 2, 0),\n",
       " ('R', 7, 2, 1),\n",
       " ('R', 7, 3, 0),\n",
       " ('R', 7, 3, 1),\n",
       " ('R', 7, 4, 0),\n",
       " ('R', 7, 4, 1),\n",
       " ('R', 8, 1, 0),\n",
       " ('R', 8, 1, 1),\n",
       " ('R', 8, 2, 0),\n",
       " ('R', 8, 2, 1),\n",
       " ('R', 8, 3, 0),\n",
       " ('R', 8, 3, 1),\n",
       " ('R', 8, 4, 0),\n",
       " ('R', 8, 4, 1)]"
      ]
     },
     "execution_count": 43,
     "metadata": {},
     "output_type": "execute_result"
    }
   ],
   "source": [
    "mobility = list(itertools.product('R',direction,diff,glove))\n",
    "mobility"
   ]
  },
  {
   "cell_type": "code",
   "execution_count": 32,
   "metadata": {
    "ExecuteTime": {
     "end_time": "2021-03-11T17:43:13.984198Z",
     "start_time": "2021-03-11T17:43:13.977198Z"
    }
   },
   "outputs": [],
   "source": [
    "columns = ['glove','decision','accurate','difficulty','direction']"
   ]
  },
  {
   "cell_type": "code",
   "execution_count": 44,
   "metadata": {
    "ExecuteTime": {
     "end_time": "2021-03-11T18:14:41.703724Z",
     "start_time": "2021-03-11T18:14:41.689724Z"
    }
   },
   "outputs": [],
   "source": [
    "table_tabulate = pd.DataFrame(columns=columns)"
   ]
  },
  {
   "cell_type": "code",
   "execution_count": 45,
   "metadata": {
    "ExecuteTime": {
     "end_time": "2021-03-11T18:14:42.161723Z",
     "start_time": "2021-03-11T18:14:42.153723Z"
    }
   },
   "outputs": [
    {
     "data": {
      "text/html": [
       "<div>\n",
       "<style scoped>\n",
       "    .dataframe tbody tr th:only-of-type {\n",
       "        vertical-align: middle;\n",
       "    }\n",
       "\n",
       "    .dataframe tbody tr th {\n",
       "        vertical-align: top;\n",
       "    }\n",
       "\n",
       "    .dataframe thead th {\n",
       "        text-align: right;\n",
       "    }\n",
       "</style>\n",
       "<table border=\"1\" class=\"dataframe\">\n",
       "  <thead>\n",
       "    <tr style=\"text-align: right;\">\n",
       "      <th></th>\n",
       "      <th>glove</th>\n",
       "      <th>decision</th>\n",
       "      <th>accurate</th>\n",
       "      <th>difficulty</th>\n",
       "      <th>direction</th>\n",
       "    </tr>\n",
       "  </thead>\n",
       "  <tbody>\n",
       "  </tbody>\n",
       "</table>\n",
       "</div>"
      ],
      "text/plain": [
       "Empty DataFrame\n",
       "Columns: [glove, decision, accurate, difficulty, direction]\n",
       "Index: []"
      ]
     },
     "execution_count": 45,
     "metadata": {},
     "output_type": "execute_result"
    }
   ],
   "source": [
    "table_tabulate"
   ]
  },
  {
   "cell_type": "code",
   "execution_count": 46,
   "metadata": {
    "ExecuteTime": {
     "end_time": "2021-03-11T18:14:44.815724Z",
     "start_time": "2021-03-11T18:14:44.801724Z"
    }
   },
   "outputs": [],
   "source": [
    "mobile = pd.DataFrame(columns=mobility)\n",
    "Arm = pd.DataFrame(columns=arm)"
   ]
  },
  {
   "cell_type": "code",
   "execution_count": 47,
   "metadata": {
    "ExecuteTime": {
     "end_time": "2021-03-11T18:14:45.213723Z",
     "start_time": "2021-03-11T18:14:45.177724Z"
    }
   },
   "outputs": [
    {
     "data": {
      "text/html": [
       "<div>\n",
       "<style scoped>\n",
       "    .dataframe tbody tr th:only-of-type {\n",
       "        vertical-align: middle;\n",
       "    }\n",
       "\n",
       "    .dataframe tbody tr th {\n",
       "        vertical-align: top;\n",
       "    }\n",
       "\n",
       "    .dataframe thead th {\n",
       "        text-align: right;\n",
       "    }\n",
       "</style>\n",
       "<table border=\"1\" class=\"dataframe\">\n",
       "  <thead>\n",
       "    <tr style=\"text-align: right;\">\n",
       "      <th></th>\n",
       "      <th>glove</th>\n",
       "      <th>decision</th>\n",
       "      <th>accurate</th>\n",
       "      <th>difficulty</th>\n",
       "      <th>direction</th>\n",
       "      <th>(A, 0, 0, 0)</th>\n",
       "      <th>(A, 0, 0, 1)</th>\n",
       "      <th>(A, 0, 1, 0)</th>\n",
       "      <th>(A, 0, 1, 1)</th>\n",
       "      <th>(A, 1, 0, 0)</th>\n",
       "      <th>...</th>\n",
       "      <th>(R, 7, 4, 0)</th>\n",
       "      <th>(R, 7, 4, 1)</th>\n",
       "      <th>(R, 8, 1, 0)</th>\n",
       "      <th>(R, 8, 1, 1)</th>\n",
       "      <th>(R, 8, 2, 0)</th>\n",
       "      <th>(R, 8, 2, 1)</th>\n",
       "      <th>(R, 8, 3, 0)</th>\n",
       "      <th>(R, 8, 3, 1)</th>\n",
       "      <th>(R, 8, 4, 0)</th>\n",
       "      <th>(R, 8, 4, 1)</th>\n",
       "    </tr>\n",
       "  </thead>\n",
       "  <tbody>\n",
       "  </tbody>\n",
       "</table>\n",
       "<p>0 rows × 85 columns</p>\n",
       "</div>"
      ],
      "text/plain": [
       "Empty DataFrame\n",
       "Columns: [glove, decision, accurate, difficulty, direction, (A, 0, 0, 0), (A, 0, 0, 1), (A, 0, 1, 0), (A, 0, 1, 1), (A, 1, 0, 0), (A, 1, 0, 1), (A, 1, 1, 0), (A, 1, 1, 1), (R, 0, 1, 0), (R, 0, 1, 1), (R, 0, 2, 0), (R, 0, 2, 1), (R, 0, 3, 0), (R, 0, 3, 1), (R, 0, 4, 0), (R, 0, 4, 1), (R, 1, 1, 0), (R, 1, 1, 1), (R, 1, 2, 0), (R, 1, 2, 1), (R, 1, 3, 0), (R, 1, 3, 1), (R, 1, 4, 0), (R, 1, 4, 1), (R, 2, 1, 0), (R, 2, 1, 1), (R, 2, 2, 0), (R, 2, 2, 1), (R, 2, 3, 0), (R, 2, 3, 1), (R, 2, 4, 0), (R, 2, 4, 1), (R, 3, 1, 0), (R, 3, 1, 1), (R, 3, 2, 0), (R, 3, 2, 1), (R, 3, 3, 0), (R, 3, 3, 1), (R, 3, 4, 0), (R, 3, 4, 1), (R, 4, 1, 0), (R, 4, 1, 1), (R, 4, 2, 0), (R, 4, 2, 1), (R, 4, 3, 0), (R, 4, 3, 1), (R, 4, 4, 0), (R, 4, 4, 1), (R, 5, 1, 0), (R, 5, 1, 1), (R, 5, 2, 0), (R, 5, 2, 1), (R, 5, 3, 0), (R, 5, 3, 1), (R, 5, 4, 0), (R, 5, 4, 1), (R, 6, 1, 0), (R, 6, 1, 1), (R, 6, 2, 0), (R, 6, 2, 1), (R, 6, 3, 0), (R, 6, 3, 1), (R, 6, 4, 0), (R, 6, 4, 1), (R, 7, 1, 0), (R, 7, 1, 1), (R, 7, 2, 0), (R, 7, 2, 1), (R, 7, 3, 0), (R, 7, 3, 1), (R, 7, 4, 0), (R, 7, 4, 1), (R, 8, 1, 0), (R, 8, 1, 1), (R, 8, 2, 0), (R, 8, 2, 1), (R, 8, 3, 0), (R, 8, 3, 1), (R, 8, 4, 0), (R, 8, 4, 1)]\n",
       "Index: []\n",
       "\n",
       "[0 rows x 85 columns]"
      ]
     },
     "execution_count": 47,
     "metadata": {},
     "output_type": "execute_result"
    }
   ],
   "source": [
    "baseball = pd.concat([table_tabulate,Arm,mobile])\n",
    "baseball"
   ]
  },
  {
   "cell_type": "code",
   "execution_count": 49,
   "metadata": {
    "ExecuteTime": {
     "end_time": "2021-03-11T18:15:01.300219Z",
     "start_time": "2021-03-11T18:15:01.258219Z"
    }
   },
   "outputs": [],
   "source": [
    "baseball.to_excel(\"defense_tracker.xlsx\") "
   ]
  },
  {
   "cell_type": "code",
   "execution_count": null,
   "metadata": {},
   "outputs": [],
   "source": []
  }
 ],
 "metadata": {
  "kernelspec": {
   "display_name": "Python 3",
   "language": "python",
   "name": "python3"
  },
  "language_info": {
   "codemirror_mode": {
    "name": "ipython",
    "version": 3
   },
   "file_extension": ".py",
   "mimetype": "text/x-python",
   "name": "python",
   "nbconvert_exporter": "python",
   "pygments_lexer": "ipython3",
   "version": "3.8.5"
  },
  "latex_envs": {
   "LaTeX_envs_menu_present": true,
   "autoclose": false,
   "autocomplete": true,
   "bibliofile": "biblio.bib",
   "cite_by": "apalike",
   "current_citInitial": 1,
   "eqLabelWithNumbers": true,
   "eqNumInitial": 1,
   "hotkeys": {
    "equation": "Ctrl-E",
    "itemize": "Ctrl-I"
   },
   "labels_anchors": false,
   "latex_user_defs": false,
   "report_style_numbering": false,
   "user_envs_cfg": false
  },
  "toc": {
   "base_numbering": 1,
   "nav_menu": {},
   "number_sections": true,
   "sideBar": true,
   "skip_h1_title": false,
   "title_cell": "Table of Contents",
   "title_sidebar": "Contents",
   "toc_cell": false,
   "toc_position": {},
   "toc_section_display": true,
   "toc_window_display": false
  },
  "varInspector": {
   "cols": {
    "lenName": 16,
    "lenType": 16,
    "lenVar": 40
   },
   "kernels_config": {
    "python": {
     "delete_cmd_postfix": "",
     "delete_cmd_prefix": "del ",
     "library": "var_list.py",
     "varRefreshCmd": "print(var_dic_list())"
    },
    "r": {
     "delete_cmd_postfix": ") ",
     "delete_cmd_prefix": "rm(",
     "library": "var_list.r",
     "varRefreshCmd": "cat(var_dic_list()) "
    }
   },
   "types_to_exclude": [
    "module",
    "function",
    "builtin_function_or_method",
    "instance",
    "_Feature"
   ],
   "window_display": false
  }
 },
 "nbformat": 4,
 "nbformat_minor": 4
}
